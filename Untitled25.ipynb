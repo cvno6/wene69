{
  "nbformat": 4,
  "nbformat_minor": 0,
  "metadata": {
    "colab": {
      "provenance": []
    },
    "kernelspec": {
      "name": "python3",
      "display_name": "Python 3"
    },
    "language_info": {
      "name": "python"
    }
  },
  "cells": [
    {
      "cell_type": "code",
      "execution_count": null,
      "metadata": {
        "colab": {
          "base_uri": "https://localhost:8080/"
        },
        "id": "AYlULYSKvFL5",
        "outputId": "888fe0d6-a099-4053-cb39-279fb356ce6e"
      },
      "outputs": [
        {
          "output_type": "stream",
          "name": "stdout",
          "text": [
            "Epoch 1, Loss: 0.4479\n",
            "Epoch 2, Loss: 0.0902\n",
            "Epoch 3, Loss: 0.0491\n",
            "Epoch 4, Loss: 0.0217\n",
            "Epoch 5, Loss: 0.0049\n",
            "Epoch 6, Loss: 0.0036\n",
            "Epoch 7, Loss: 0.0033\n",
            "Epoch 8, Loss: 0.0047\n",
            "Epoch 9, Loss: 0.0030\n",
            "Epoch 10, Loss: 0.0028\n",
            "Final Test MSE: 42.1948\n"
          ]
        }
      ],
      "source": [
        "import torch\n",
        "import torch.nn as nn\n",
        "import torch.optim as optim\n",
        "from torch.utils.data import DataLoader, TensorDataset\n",
        "from sklearn.datasets import make_regression\n",
        "from sklearn.model_selection import train_test_split\n",
        "from sklearn.preprocessing import StandardScaler\n",
        "from sklearn.metrics import mean_squared_error\n",
        "\n",
        "# Data\n",
        "X, y = make_regression(n_samples=1000, n_features=10, noise=0.1, random_state=42)\n",
        "X_train, X_test, y_train, y_test = train_test_split(X, y, test_size=0.2, random_state=42)\n",
        "\n",
        "# Initialize the scalers\n",
        "X_scaler = StandardScaler()\n",
        "y_scaler = StandardScaler()\n",
        "\n",
        "# Fit the scalers on the training data and transform\n",
        "X_train_scaled = X_scaler.fit_transform(X_train)\n",
        "y_train_scaled = y_scaler.fit_transform(y_train.reshape(-1, 1))\n",
        "\n",
        "# Transform the test data using the fitted scalers\n",
        "X_test_scaled = X_scaler.transform(X_test)\n",
        "y_test_scaled = y_scaler.transform(y_test.reshape(-1, 1))\n",
        "\n",
        "\n",
        "X_train_tensor = torch.tensor(X_train_scaled, dtype=torch.float32)\n",
        "X_test_tensor = torch.tensor(X_test_scaled, dtype=torch.float32)\n",
        "y_train_tensor = torch.tensor(y_train_scaled, dtype=torch.float32)\n",
        "y_test_tensor = torch.tensor(y_test_scaled, dtype=torch.float32)\n",
        "train_loader = DataLoader(TensorDataset(X_train_tensor, y_train_tensor), batch_size=64, shuffle=True)\n",
        "test_loader = DataLoader(TensorDataset(X_test_tensor, y_test_tensor), batch_size=64)\n",
        "\n",
        "# Model\n",
        "class Net(nn.Module):\n",
        "    def __init__(self, in_size, h):\n",
        "        super().__init__()\n",
        "        self.fc1 = nn.Linear(in_size, h)\n",
        "        self.act = nn.ReLU()\n",
        "        self.fc2 = nn.Linear(h, 1)\n",
        "    def forward(self, x): return self.fc2(self.act(self.fc1(x)))\n",
        "\n",
        "input_size = X_train_tensor.shape[1]\n",
        "hidden_size = 10  # A fixed hidden layer size\n",
        "model = Net(input_size, hidden_size)\n",
        "\n",
        "# Optimizer and Loss\n",
        "learning_rate = 0.01  # A fixed learning rate\n",
        "optimizer = optim.Adam(model.parameters(), lr=learning_rate)\n",
        "criterion = nn.MSELoss()\n",
        "\n",
        "# Train\n",
        "epochs = 10\n",
        "for epoch in range(epochs):\n",
        "    for inputs, targets in train_loader:\n",
        "        optimizer.zero_grad(); outputs = model(inputs); loss = criterion(outputs, targets); loss.backward(); optimizer.step()\n",
        "    print(f'Epoch {epoch+1}, Loss: {loss.item():.4f}')\n",
        "\n",
        "# Evaluate\n",
        "model.eval()\n",
        "with torch.no_grad():\n",
        "    y_pred = y_scaler.inverse_transform(model(X_test_tensor).numpy())\n",
        "    y_true = y_scaler.inverse_transform(y_test_tensor.numpy())\n",
        "    final_mse = mean_squared_error(y_true, y_pred)\n",
        "    print(f'Final Test MSE: {final_mse:.4f}')\n"
      ]
    }
  ]
}