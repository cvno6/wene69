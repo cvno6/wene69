{
  "nbformat": 4,
  "nbformat_minor": 0,
  "metadata": {
    "colab": {
      "provenance": []
    },
    "kernelspec": {
      "name": "python3",
      "display_name": "Python 3"
    },
    "language_info": {
      "name": "python"
    }
  },
  "cells": [
    {
      "cell_type": "code",
      "execution_count": null,
      "metadata": {
        "colab": {
          "base_uri": "https://localhost:8080/"
        },
        "id": "FTYhRaX1xIKj",
        "outputId": "c406e180-b6f0-4e43-a1d5-e8bc801ee313"
      },
      "outputs": [
        {
          "output_type": "stream",
          "name": "stdout",
          "text": [
            "Hessian matrix:\n",
            "tensor([[2., 0.],\n",
            "        [0., 2.]])\n"
          ]
        },
        {
          "output_type": "stream",
          "name": "stderr",
          "text": [
            "/usr/local/lib/python3.11/dist-packages/torch/autograd/graph.py:823: UserWarning: Using backward() with create_graph=True will create a reference cycle between the parameter and its gradient which can cause a memory leak. We recommend using autograd.grad when creating the graph to avoid this. If you have to use this function, make sure to reset the .grad fields of your parameters to None after use to break the cycle and avoid the leak. (Triggered internally at /pytorch/torch/csrc/autograd/engine.cpp:1260.)\n",
            "  return Variable._execution_engine.run_backward(  # Calls into the C++ engine to run the backward pass\n"
          ]
        }
      ],
      "source": [
        "import torch\n",
        "\n",
        "def func(x):\n",
        "    return x[0]**2 + x[1]**2\n",
        "\n",
        "x = torch.tensor([1.0, 1.0], requires_grad=True)\n",
        "\n",
        "y = func(x)\n",
        "y.backward(create_graph=True)\n",
        "\n",
        "hessian = torch.zeros(2, 2)\n",
        "\n",
        "for i in range(2):\n",
        "    grad_i = torch.autograd.grad(y, x, create_graph=True)[0][i]\n",
        "    for j in range(2):\n",
        "        grad_ij = torch.autograd.grad(grad_i, x, retain_graph=True)[0][j]\n",
        "        hessian[i, j] = grad_ij\n",
        "\n",
        "print(\"Hessian matrix:\")\n",
        "print(hessian)"
      ]
    }
  ]
}