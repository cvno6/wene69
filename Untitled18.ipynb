{
  "nbformat": 4,
  "nbformat_minor": 0,
  "metadata": {
    "colab": {
      "provenance": []
    },
    "kernelspec": {
      "name": "python3",
      "display_name": "Python 3"
    },
    "language_info": {
      "name": "python"
    }
  },
  "cells": [
    {
      "cell_type": "code",
      "execution_count": null,
      "metadata": {
        "colab": {
          "base_uri": "https://localhost:8080/"
        },
        "id": "Venia3ppqxv1",
        "outputId": "832e6111-0621-4efd-ff40-44ba9622fe0b"
      },
      "outputs": [
        {
          "output_type": "stream",
          "name": "stdout",
          "text": [
            "XOR Gate Predictions:\n",
            "[0 0] -> -0.27777777777777696\n",
            "[0 1] -> 0.25000000000000006\n",
            "[1 0] -> 0.27777777777777796\n",
            "[1 1] -> 0.8055555555555549\n",
            "\n",
            "XNOR Gate Predictions:\n",
            "[0 0] -> 1.2777777777777768\n",
            "[0 1] -> 0.7499999999999999\n",
            "[1 0] -> 0.7222222222222219\n",
            "[1 1] -> 0.19444444444444509\n"
          ]
        }
      ],
      "source": [
        "import numpy as np\n",
        "\n",
        "class SinglePerceptronRegression:\n",
        "    def __init__(self, input_size):\n",
        "        self.input_size = input_size\n",
        "        self.weights = np.random.rand(input_size)\n",
        "        self.bias = np.random.rand()\n",
        "        self.learning_rate = 0.1\n",
        "\n",
        "    def activation(self, x):\n",
        "        return x\n",
        "\n",
        "    def predict(self, inputs):\n",
        "        summation = np.dot(inputs, self.weights) + self.bias\n",
        "        return self.activation(summation)\n",
        "\n",
        "    def train(self, training_inputs, labels, epochs):\n",
        "        for _ in range(epochs):\n",
        "            for inputs, label in zip(training_inputs, labels):\n",
        "                prediction = self.predict(inputs)\n",
        "                error = label - prediction\n",
        "                self.weights += self.learning_rate * error * inputs\n",
        "                self.bias += self.learning_rate * error\n",
        "\n",
        "\n",
        "# Define XOR gate inputs and labels for regression\n",
        "xor_inputs = np.array([[0, 0], [0, 1], [1, 0], [1, 1]])\n",
        "xor_labels = np.array([0, 0, 0, 1])\n",
        "\n",
        "# Define XNOR gate inputs and labels for regression\n",
        "xnor_inputs = np.array([[0, 0], [0, 1], [1, 0], [1, 1]])\n",
        "xnor_labels = np.array([1, 1, 1, 0])\n",
        "\n",
        "# Create perceptrons for XOR and XNOR gates regression\n",
        "xor_perceptron = SinglePerceptronRegression(2)\n",
        "xnor_perceptron = SinglePerceptronRegression(2)\n",
        "\n",
        "# Train perceptrons\n",
        "xor_perceptron.train(xor_inputs, xor_labels, epochs=1000)\n",
        "xnor_perceptron.train(xnor_inputs, xnor_labels, epochs=1000)\n",
        "\n",
        "# Test XOR gate regression\n",
        "print(\"XOR Gate Predictions:\")\n",
        "for inputs in xor_inputs:\n",
        "    print(f\"{inputs} -> {xor_perceptron.predict(inputs)}\")\n",
        "\n",
        "# Test XNOR gate regression\n",
        "print(\"\\nXNOR Gate Predictions:\")\n",
        "for inputs in xnor_inputs:\n",
        "    print(f\"{inputs} -> {xnor_perceptron.predict(inputs)}\")"
      ]
    }
  ]
}