{
  "nbformat": 4,
  "nbformat_minor": 0,
  "metadata": {
    "colab": {
      "provenance": []
    },
    "kernelspec": {
      "name": "python3",
      "display_name": "Python 3"
    },
    "language_info": {
      "name": "python"
    }
  },
  "cells": [
    {
      "cell_type": "code",
      "execution_count": null,
      "metadata": {
        "id": "EMnNwYkHwzei",
        "outputId": "a230c95a-373b-4865-efcb-d2bd52afe286",
        "colab": {
          "base_uri": "https://localhost:8080/"
        }
      },
      "outputs": [
        {
          "output_type": "stream",
          "name": "stdout",
          "text": [
            "Hessian Matrix at x = [1. 1.]\n",
            "[[2. 0.]\n",
            " [0. 2.]]\n"
          ]
        }
      ],
      "source": [
        "import numpy as np\n",
        "import autograd.numpy as anp\n",
        "from autograd import grad, jacobian\n",
        "\n",
        "# Define a scalar function, for example: f(x, y) = x^2 + y^2\n",
        "def func(x):\n",
        "    return x[0]**2 + x[1]**2\n",
        "\n",
        "grad_func = grad(func)\n",
        "\n",
        "def hessian(func):\n",
        "    return jacobian(grad(func))\n",
        "\n",
        "hessian_func = hessian(func)\n",
        "\n",
        "x_input = np.array([1.0, 1.0])\n",
        "\n",
        "hessian_at_input = hessian_func(x_input)\n",
        "\n",
        "print(\"Hessian Matrix at x =\", x_input)\n",
        "print(hessian_at_input)"
      ]
    }
  ]
}